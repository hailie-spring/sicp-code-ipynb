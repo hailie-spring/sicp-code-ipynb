{
 "cells": [
  {
   "cell_type": "markdown",
   "metadata": {},
   "source": [
    "### 2.53 "
   ]
  },
  {
   "cell_type": "code",
   "execution_count": 4,
   "metadata": {},
   "outputs": [
    {
     "name": "stdout",
     "output_type": "stream",
     "text": [
      "( False )\n",
      "( apple pear )\n",
      "( a b c )\n",
      "( ( gorge ) )\n",
      "( ( y1 y2 ) )\n",
      "( y1 y2 )\n",
      "( False )\n",
      "( False )\n",
      "( red shoes blue socks )\n"
     ]
    }
   ],
   "source": [
    "from base_definition import list, display_list, car, cdr\n",
    "\n",
    "\n",
    "def memq(item, lst):\n",
    "    if lst is None:\n",
    "        return False\n",
    "    if item == car(lst):\n",
    "        return lst\n",
    "    return memq(item, cdr(lst))\n",
    "\n",
    "\n",
    "def pair(seq):\n",
    "    return callable(seq)\n",
    "\n",
    "\n",
    "lst = list(\"pear\", \"banana\", \"prune\")\n",
    "display_list(memq(\"appple\", lst))\n",
    "lst = list(\"x\", list(\"apple\", \"sauce\"), \"y\", \"apple\", \"pear\")\n",
    "display_list(memq(\"apple\", lst))\n",
    "\n",
    "display_list(list(\"a\", \"b\", \"c\"))\n",
    "display_list(list(list(\"gorge\")))\n",
    "lst = list(list(\"x1\", \"x2\"), list(\"y1\", \"y2\"))\n",
    "display_list(cdr(lst))\n",
    "display_list(car(cdr(lst)))\n",
    "lst = list(\"a\", \"short\", \"list\")\n",
    "display_list(pair(car(lst)))\n",
    "lst = list(list(\"red\", \"shoes\"), list(\"blue\", \"socks\"))\n",
    "display_list(memq(\"red\", lst))\n",
    "lst = list(\"red\", \"shoes\", \"blue\", \"socks\")\n",
    "display_list(memq(\"red\", lst))"
   ]
  },
  {
   "cell_type": "markdown",
   "metadata": {},
   "source": [
    "### 2.54 "
   ]
  },
  {
   "cell_type": "code",
   "execution_count": 5,
   "metadata": {},
   "outputs": [
    {
     "name": "stdout",
     "output_type": "stream",
     "text": [
      "( this is a list )\n",
      "( this is a list )\n",
      "( True )\n",
      "( False )\n",
      "( False )\n"
     ]
    }
   ],
   "source": [
    "from base_definition import list, display_list, car, cdr\n",
    "\n",
    "def equal(lst1, lst2):\n",
    "    if lst1 is None and lst2 is None:\n",
    "        return True\n",
    "    if lst1 is None or lst2 is None:\n",
    "        return False\n",
    "    if not callable(car(lst1)) and not callable(car(lst2)):\n",
    "        if car(lst1) == car(lst2):\n",
    "            return equal(cdr(lst1), cdr(lst2))\n",
    "        return False\n",
    "    if callable(car(lst1)) and callable(car(lst2)):\n",
    "        return equal(car(lst1), car(lst2)) and equal(cdr(lst1), cdr(lst2))\n",
    "    return False\n",
    "\n",
    "\n",
    "lst1 = list(*\"this is a list\".split())\n",
    "lst2 = list(*\"this is a list\".split())\n",
    "display_list(lst1)\n",
    "display_list(lst2)\n",
    "display_list(equal(lst1, lst2))\n",
    "display_list(equal(list(\"a\"), list(\"a\", \"b\")))\n",
    "display_list(equal(list(\"a\", \"b\"), list(\"a\", list(\"b\"))))"
   ]
  },
  {
   "cell_type": "markdown",
   "metadata": {},
   "source": [
    "### 集合作为未排序的表 \n",
    "1. element_of_set: &Theta;(n) \n",
    "2. adjoin_set: &Theta;(n)  \n",
    "3. intersection_set: &Theta;(n*n)  \n",
    "4. union_set: &Theta;(n*n)  "
   ]
  },
  {
   "cell_type": "code",
   "execution_count": 6,
   "metadata": {},
   "outputs": [
    {
     "name": "stdout",
     "output_type": "stream",
     "text": [
      "True\n",
      "False\n"
     ]
    }
   ],
   "source": [
    "from base_definition import  car, cdr, list\n",
    "\n",
    "def element_of_set(x, set):\n",
    "    if set is None:\n",
    "        return False\n",
    "    if x == car(set):\n",
    "        return True\n",
    "    return element_of_set(x, cdr(set))\n",
    "\n",
    "s = list(1, 2, 3, 4)\n",
    "print(element_of_set(4, s))\n",
    "print(element_of_set(5, s))"
   ]
  },
  {
   "cell_type": "code",
   "execution_count": 7,
   "metadata": {},
   "outputs": [
    {
     "name": "stdout",
     "output_type": "stream",
     "text": [
      "( 0 1 2 3 4 )\n",
      "( 1 2 3 4 )\n"
     ]
    }
   ],
   "source": [
    "from base_definition import car, cdr, list, cons, display_list\n",
    "\n",
    "\n",
    "def element_of_set(x, set):\n",
    "    if set is None:\n",
    "        return False\n",
    "    if x == car(set):\n",
    "        return True\n",
    "    return element_of_set(x, cdr(set))\n",
    "\n",
    "\n",
    "def adjoin_set(x, s):\n",
    "    if element_of_set(x, s):\n",
    "        return s\n",
    "    return cons(x, s)\n",
    "\n",
    "\n",
    "s = list(1, 2, 3, 4)\n",
    "\n",
    "display_list(adjoin_set(0, s))\n",
    "display_list(adjoin_set(3, s))"
   ]
  },
  {
   "cell_type": "code",
   "execution_count": 8,
   "metadata": {},
   "outputs": [
    {
     "name": "stdout",
     "output_type": "stream",
     "text": [
      "( 2 3 )\n"
     ]
    }
   ],
   "source": [
    "from base_definition import car, cdr, list, cons, display_list\n",
    "\n",
    "\n",
    "def element_of_set(x, set):\n",
    "    if set is None:\n",
    "        return False\n",
    "    if x == car(set):\n",
    "        return True\n",
    "    return element_of_set(x, cdr(set))\n",
    "\n",
    "def intersection_set(s1, s2):\n",
    "    if s1 is None or s2 is None:\n",
    "        return None\n",
    "    if element_of_set(car(s1), s2):\n",
    "        return cons(car(s1), intersection_set(cdr(s1), s2))\n",
    "    return intersection_set(cdr(s1), s2)\n",
    "\n",
    "\n",
    "\n",
    "s1 = list(1, 2, 3, 4)\n",
    "s2 = list(2, 3, 5, 6)\n",
    "r = intersection_set(s1, s2)\n",
    "display_list(r)\n"
   ]
  },
  {
   "cell_type": "markdown",
   "metadata": {},
   "source": [
    "### 2.59 "
   ]
  },
  {
   "cell_type": "code",
   "execution_count": 9,
   "metadata": {},
   "outputs": [
    {
     "name": "stdout",
     "output_type": "stream",
     "text": [
      "( 1 4 2 3 5 6 )\n"
     ]
    }
   ],
   "source": [
    "from base_definition import car, cdr, list, cons, display_list\n",
    "\n",
    "\n",
    "def element_of_set(x, set):\n",
    "    if set is None:\n",
    "        return False\n",
    "    if x == car(set):\n",
    "        return True\n",
    "    return element_of_set(x, cdr(set))\n",
    "\n",
    "def union_set(s1, s2):\n",
    "    if s1 is None:\n",
    "        return s2\n",
    "    if not element_of_set(car(s1), s2):\n",
    "        return cons(car(s1), union_set(cdr(s1), s2))\n",
    "    return union_set(cdr(s1), s2)\n",
    "\n",
    "s1 = list(1, 2, 3, 4)\n",
    "s2 = list(2, 3, 5, 6)\n",
    "r = union_set(s1, s2)\n",
    "display_list(r)"
   ]
  },
  {
   "cell_type": "markdown",
   "metadata": {},
   "source": [
    "### 2.60 \n",
    "1. element_of_set: &Theta;(n)  \n",
    "2. adjoin_set: &Theta;(1)  \n",
    "3. intersection_set: &Theta;(n*n)  \n",
    "4. union_set: &Theta;(n)  "
   ]
  },
  {
   "cell_type": "code",
   "execution_count": 10,
   "metadata": {},
   "outputs": [
    {
     "name": "stdout",
     "output_type": "stream",
     "text": [
      "( 2 3 2 3 2 2 2 2 3 )\n"
     ]
    }
   ],
   "source": [
    "from base_definition import car, cdr, list, cons, display_list, append\n",
    "\n",
    "\n",
    "def element_of_set(x, set):\n",
    "    if set is None:\n",
    "        return False\n",
    "    if x == car(set):\n",
    "        return True\n",
    "    return element_of_set(x, cdr(set))\n",
    "\n",
    "\n",
    "def adjoin_set(x, s):\n",
    "    return cons(x, s)\n",
    "\n",
    "\n",
    "def intersection_set(s1, s2):\n",
    "\n",
    "    def sub_intersection_set(s1, s2):\n",
    "        if s1 is None or s2 is None:\n",
    "            return None\n",
    "        if element_of_set(car(s1), s2):\n",
    "            return cons(car(s1), sub_intersection_set(cdr(s1), s2))\n",
    "        return sub_intersection_set(cdr(s1), s2)\n",
    "\n",
    "    r1 = sub_intersection_set(s1, s2)\n",
    "    r2 = sub_intersection_set(s2, s1)\n",
    "    r = append(r1, r2)\n",
    "    return r\n",
    "\n",
    "\n",
    "def union_set(s1, s2):\n",
    "    if s1 is None:\n",
    "        return s2\n",
    "    return cons(car(s1), union_set(cdr(s1), s2))\n",
    "\n",
    "\n",
    "s1 = list(2, 3, 2, 1, 3, 2, 2)\n",
    "s2 = list(2, 2, 3, 4)\n",
    "display_list(intersection_set(s1, s2))"
   ]
  },
  {
   "cell_type": "markdown",
   "metadata": {},
   "source": [
    "### 集合作为排序的表 \n",
    "1. element_of_set: &Theta;(n)  \n",
    "2. adjoin_set: &Theta;(n)  \n",
    "3. intersection_set: &Theta;(n)  \n",
    "4. union_set: &Theta;(n)  "
   ]
  },
  {
   "cell_type": "code",
   "execution_count": 11,
   "metadata": {},
   "outputs": [
    {
     "name": "stdout",
     "output_type": "stream",
     "text": [
      "False\n",
      "True\n",
      "False\n"
     ]
    }
   ],
   "source": [
    "from base_definition import car, cdr, list, cons, display_list, append\n",
    "\n",
    "\n",
    "def element_of_set(x, s):\n",
    "    if s is None:\n",
    "        return False\n",
    "    if x == car(s):\n",
    "        return True\n",
    "    if x < car(s):\n",
    "        return False\n",
    "    return element_of_set(x, cdr(s))\n",
    "\n",
    "s = list(1, 2, 3, 4)\n",
    "print(element_of_set(0, s))\n",
    "print(element_of_set(2, s))\n",
    "print(element_of_set(8, s))\n",
    "\n"
   ]
  },
  {
   "cell_type": "code",
   "execution_count": 12,
   "metadata": {},
   "outputs": [
    {
     "name": "stdout",
     "output_type": "stream",
     "text": [
      "( 8 )\n"
     ]
    }
   ],
   "source": [
    "from base_definition import car, cdr, list, cons, display_list, append\n",
    "\n",
    "\n",
    "def intersection_set(s1, s2):\n",
    "    if s1 is None or s2 is None:\n",
    "        return None\n",
    "    x1 = car(s1)\n",
    "    x2 = car(s2)\n",
    "    if x1 == x2:\n",
    "        return cons(x1, intersection_set(cdr(s1), cdr(s2)))\n",
    "    if x1 < x2:\n",
    "        return intersection_set(cdr(s1), s2)\n",
    "    if x1 > x2:\n",
    "        return intersection_set(s1, cdr(s2))\n",
    "\n",
    "\n",
    "s1 = list(1, 4, 8, 9)\n",
    "s2 = list(0, 8, 10, 11, 12)\n",
    "r = intersection_set(s1, s2)\n",
    "display_list(r)"
   ]
  },
  {
   "cell_type": "markdown",
   "metadata": {},
   "source": [
    "### 2.61 "
   ]
  },
  {
   "cell_type": "code",
   "execution_count": 13,
   "metadata": {},
   "outputs": [
    {
     "name": "stdout",
     "output_type": "stream",
     "text": [
      "( 0 1 2 3 6 )\n",
      "( 1 2 3 6 )\n",
      "( 1 2 3 4 6 )\n",
      "( 1 2 3 6 8 )\n"
     ]
    }
   ],
   "source": [
    "from base_definition import car, cdr, list, cons, display_list, append\n",
    "\n",
    "def adjoin_set(x, s):\n",
    "    if s is None:\n",
    "        return cons(x, None)\n",
    "    if x == car(s):\n",
    "        return s\n",
    "    if x < car(s):\n",
    "        return cons(x, s)\n",
    "    return cons(car(s), adjoin_set(x, cdr(s)))\n",
    "\n",
    "s = list(1, 2, 3, 6)\n",
    "display_list(adjoin_set(0, s))\n",
    "display_list(adjoin_set(3, s))\n",
    "display_list(adjoin_set(4, s))\n",
    "display_list(adjoin_set(8, s))"
   ]
  },
  {
   "cell_type": "markdown",
   "metadata": {},
   "source": [
    "### 2.62 "
   ]
  },
  {
   "cell_type": "code",
   "execution_count": 14,
   "metadata": {},
   "outputs": [
    {
     "name": "stdout",
     "output_type": "stream",
     "text": [
      "( 0 1 4 8 9 10 11 12 )\n"
     ]
    }
   ],
   "source": [
    "from base_definition import car, cdr, list, cons, display_list, append\n",
    "\n",
    "\n",
    "def union_set(s1, s2):\n",
    "    if s1 is None:\n",
    "        return s2\n",
    "    if s2 is None:\n",
    "        return s1\n",
    "    x1 = car(s1)\n",
    "    x2 = car(s2)\n",
    "    if x1 == x2:\n",
    "        return cons(x1, union_set(cdr(s1), cdr(s2)))\n",
    "    if x1 < x2:\n",
    "        return cons(x1, union_set(cdr(s1), s2))\n",
    "    return cons(x2, union_set(s1, cdr(s2)))\n",
    "\n",
    "s1 = list(1, 4, 8, 9)\n",
    "s2 = list(0, 8, 10, 11, 12)\n",
    "r = union_set(s1, s2)\n",
    "display_list(r)"
   ]
  },
  {
   "cell_type": "markdown",
   "metadata": {},
   "source": [
    "### 集合作为二叉树 "
   ]
  },
  {
   "cell_type": "code",
   "execution_count": 15,
   "metadata": {},
   "outputs": [
    {
     "name": "stdout",
     "output_type": "stream",
     "text": [
      "( 1 )\n",
      "( 1 ( 2 ) )\n",
      "( 1 ( 2 ( 3 ) ) )\n"
     ]
    }
   ],
   "source": [
    "from base_definition import car, cdr, list\n",
    "\n",
    "\n",
    "def entry(tree):\n",
    "    return car(tree)\n",
    "\n",
    "\n",
    "def left_branch(tree):\n",
    "    return car(cdr(tree))\n",
    "\n",
    "\n",
    "def right_branch(tree):\n",
    "    return car(cdr(cdr(tree)))\n",
    "\n",
    "\n",
    "def make_tree(entry, left, right):\n",
    "    return list(entry, left, right)\n",
    "\n",
    "\n",
    "def element_of_set(x, set):\n",
    "    if set is None:\n",
    "        return False\n",
    "    if x == entry(set):\n",
    "        return True\n",
    "    if x > entry(set):\n",
    "        return element_of_set(x, right_branch(set))\n",
    "    return element_of_set(x, left_branch(set))\n",
    "\n",
    "\n",
    "def adjoin_set(x, set):\n",
    "    if set is None:\n",
    "        return make_tree(x, None, None)\n",
    "    if x == entry(set):\n",
    "        return set\n",
    "    if x > entry(set):\n",
    "        make_tree(entry(set), left_branch(set), adjoin_set(x, right_branch(set)))\n",
    "    return make_tree(entry(set), adjoin_set(x, left_branch(set)), right_branch(set))\n",
    "\n",
    "\n",
    "s = adjoin_set(1, None)\n",
    "display_list(s)\n",
    "s = adjoin_set(2, s)\n",
    "display_list(s)\n",
    "s = adjoin_set(3, s)\n",
    "display_list(s)"
   ]
  },
  {
   "cell_type": "markdown",
   "metadata": {},
   "source": [
    "### 2.63 "
   ]
  },
  {
   "cell_type": "code",
   "execution_count": 16,
   "metadata": {},
   "outputs": [
    {
     "name": "stdout",
     "output_type": "stream",
     "text": [
      "( 7 ( 3 ( 1 ) ( 5 ) ) ( 9 ( 11 ) ) )\n",
      "( 1 3 5 7 9 11 )\n"
     ]
    }
   ],
   "source": [
    "from base_definition import car, cdr, list\n",
    "\n",
    "\n",
    "def entry(tree):\n",
    "    return car(tree)\n",
    "\n",
    "\n",
    "def left_branch(tree):\n",
    "    return car(cdr(tree))\n",
    "\n",
    "\n",
    "def right_branch(tree):\n",
    "    return car(cdr(cdr(tree)))\n",
    "\n",
    "\n",
    "def make_tree(entry, left, right):\n",
    "    return list(entry, left, right)\n",
    "\n",
    "\n",
    "def tree_list(tree):\n",
    "    if tree is None:\n",
    "        return None\n",
    "    return append(\n",
    "        tree_list(left_branch(tree)), cons(entry(tree), tree_list(right_branch(tree)))\n",
    "    )\n",
    "\n",
    "\n",
    "t = make_tree(\n",
    "    7,\n",
    "    make_tree(3, make_tree(1, None, None), make_tree(5, None, None)),\n",
    "    make_tree(9, None, make_tree(11, None, None)),\n",
    ")\n",
    "display_list(t)\n",
    "l = tree_list(t)\n",
    "display_list(l)"
   ]
  },
  {
   "cell_type": "code",
   "execution_count": 17,
   "metadata": {},
   "outputs": [
    {
     "name": "stdout",
     "output_type": "stream",
     "text": [
      "( 7 ( 3 ( 1 ) ( 5 ) ) ( 9 ( 11 ) ) )\n",
      "( 1 3 5 7 9 11 )\n"
     ]
    }
   ],
   "source": [
    "from base_definition import car, cdr, list\n",
    "\n",
    "\n",
    "def entry(tree):\n",
    "    return car(tree)\n",
    "\n",
    "\n",
    "def left_branch(tree):\n",
    "    return car(cdr(tree))\n",
    "\n",
    "\n",
    "def right_branch(tree):\n",
    "    return car(cdr(cdr(tree)))\n",
    "\n",
    "\n",
    "def make_tree(entry, left, right):\n",
    "    return list(entry, left, right)\n",
    "\n",
    "\n",
    "def tree_list(tree):\n",
    "    def copy_to_list(tree, result):\n",
    "        if tree is None:\n",
    "            return result\n",
    "        return copy_to_list(\n",
    "            left_branch(tree),\n",
    "            cons(entry(tree), copy_to_list(right_branch(tree), result)),\n",
    "        )\n",
    "\n",
    "    return copy_to_list(tree, None)\n",
    "\n",
    "\n",
    "t = make_tree(\n",
    "    7,\n",
    "    make_tree(3, make_tree(1, None, None), make_tree(5, None, None)),\n",
    "    make_tree(9, None, make_tree(11, None, None)),\n",
    ")\n",
    "display_list(t)\n",
    "l = tree_list(t)\n",
    "display_list(l)"
   ]
  },
  {
   "cell_type": "markdown",
   "metadata": {},
   "source": [
    "### 2.64 "
   ]
  },
  {
   "cell_type": "code",
   "execution_count": 18,
   "metadata": {},
   "outputs": [
    {
     "name": "stdout",
     "output_type": "stream",
     "text": [
      "( 1 3 4 7 9 11 )\n",
      "( 4 ( 1 ( 3 ) ) ( 9 ( 7 ) ( 11 ) ) )\n"
     ]
    }
   ],
   "source": [
    "from base_definition import cons, car, cdr\n",
    "\n",
    "\n",
    "def length(lst):\n",
    "    if lst is None:\n",
    "        return 0\n",
    "    return 1 + length(cdr(lst))\n",
    "\n",
    "\n",
    "def list_tree(elements):\n",
    "    return car(partial_tree(elements, length(elements)))\n",
    "\n",
    "\n",
    "def partial_tree(elts, n):\n",
    "    if n == 0:\n",
    "        return cons(None, elts)\n",
    "    left_size = (n - 1) // 2\n",
    "    left_result = partial_tree(elts, left_size)\n",
    "    left_tree = car(left_result)\n",
    "    non_left_elts = cdr(left_result)\n",
    "    right_size = n - (left_size + 1)\n",
    "    this_entry = car(non_left_elts)\n",
    "    right_result = partial_tree(cdr(non_left_elts), right_size)\n",
    "\n",
    "    right_tree = car(right_result)\n",
    "    remaining_elts = cdr(right_result)\n",
    "    return cons(make_tree(this_entry, left_tree, right_tree), remaining_elts)\n",
    "\n",
    "l = list(1, 3, 4, 7, 9, 11)\n",
    "display_list(l)\n",
    "r = list_tree(l)\n",
    "display_list(r)"
   ]
  },
  {
   "cell_type": "markdown",
   "metadata": {},
   "source": [
    "### 2.65 "
   ]
  },
  {
   "cell_type": "code",
   "execution_count": 19,
   "metadata": {},
   "outputs": [
    {
     "name": "stdout",
     "output_type": "stream",
     "text": [
      "( 7 )\n",
      "( 7 ( 3 ( 1 ) ( 5 ) ) ( 9 ( 8 ) ( 11 ) ) )\n"
     ]
    }
   ],
   "source": [
    "from base_definition import list, cons, car, cdr\n",
    "\n",
    "\n",
    "def intersection_set(s1, s2):\n",
    "    if s1 is None or s2 is None:\n",
    "        return None\n",
    "    x1 = car(s1)\n",
    "    x2 = car(s2)\n",
    "    if x1 == x2:\n",
    "        return cons(x1, intersection_set(cdr(s1), cdr(s2)))\n",
    "    if x1 < x2:\n",
    "        return intersection_set(cdr(s1), s2)\n",
    "    if x1 > x2:\n",
    "        return intersection_set(s1, cdr(s2))\n",
    "\n",
    "\n",
    "def union_set(s1, s2):\n",
    "    if s1 is None:\n",
    "        return s2\n",
    "    if s2 is None:\n",
    "        return s1\n",
    "    x1 = car(s1)\n",
    "    x2 = car(s2)\n",
    "    if x1 == x2:\n",
    "        return cons(x1, union_set(cdr(s1), cdr(s2)))\n",
    "    if x1 < x2:\n",
    "        return cons(x1, union_set(cdr(s1), s2))\n",
    "    return cons(x2, union_set(s1, cdr(s2)))\n",
    "\n",
    "\n",
    "def intersection_tree(t1, t2):\n",
    "    s1 = tree_list(t1)\n",
    "    s2 = tree_list(t2)\n",
    "    i_s = intersection_set(s1, s2)\n",
    "    return list_tree(i_s)\n",
    "\n",
    "\n",
    "def union_tree(t1, t2):\n",
    "    s1 = tree_list(t1)\n",
    "    s2 = tree_list(t2)\n",
    "    u_s = union_set(s1, s2)\n",
    "    return list_tree(u_s)\n",
    "\n",
    "\n",
    "t1 = make_tree(\n",
    "    7,\n",
    "    make_tree(3, make_tree(1, None, None), make_tree(5, None, None)),\n",
    "    make_tree(9, None, make_tree(11, None, None)),\n",
    ")\n",
    "\n",
    "t2 = make_tree(\n",
    "    7,\n",
    "    None,\n",
    "    make_tree(8, None, None),\n",
    ")\n",
    "\n",
    "display_list(intersection_tree(t1, t2))\n",
    "display_list(union_tree(t1, t2))"
   ]
  },
  {
   "cell_type": "markdown",
   "metadata": {},
   "source": [
    "### 2.66 "
   ]
  },
  {
   "cell_type": "code",
   "execution_count": 20,
   "metadata": {},
   "outputs": [
    {
     "name": "stdout",
     "output_type": "stream",
     "text": [
      "( 5 summer )\n",
      "( 11 math )\n",
      "( )\n"
     ]
    }
   ],
   "source": [
    "from base_definition import car, cdr, list\n",
    "\n",
    "\n",
    "def entry(tree):\n",
    "    return car(tree)\n",
    "\n",
    "\n",
    "def left_branch(tree):\n",
    "    return car(cdr(tree))\n",
    "\n",
    "\n",
    "def right_branch(tree):\n",
    "    return car(cdr(cdr(tree)))\n",
    "\n",
    "\n",
    "def make_tree(entry, left, right):\n",
    "    return list(entry, left, right)\n",
    "\n",
    "\n",
    "def key_record(record):\n",
    "    return car(record)\n",
    "\n",
    "\n",
    "def lookup(given_key, set_of_records):\n",
    "    if set_of_records is None:\n",
    "        return None\n",
    "    key = key_record(entry(set_of_records))\n",
    "    if given_key == key:\n",
    "        return entry(set_of_records)\n",
    "    if given_key > key:\n",
    "        return lookup(given_key, right_branch(set_of_records))\n",
    "    return lookup(given_key, left_branch(set_of_records))\n",
    "\n",
    "\n",
    "t1 = make_tree(\n",
    "    list(7, \"hello\"),\n",
    "    make_tree(\n",
    "        list(3, \"world\"),\n",
    "        make_tree(list(1, \"spring\"), None, None),\n",
    "        make_tree(list(5, \"summer\"), None, None),\n",
    "    ),\n",
    "    make_tree(list(9, \"ok\"), None, make_tree(list(11, \"math\"), None, None)),\n",
    ")\n",
    "\n",
    "display_list(lookup(5, t1))\n",
    "display_list(lookup(11, t1))\n",
    "display_list(lookup(12, t1))"
   ]
  },
  {
   "cell_type": "markdown",
   "metadata": {},
   "source": [
    "### huffman树"
   ]
  },
  {
   "cell_type": "code",
   "execution_count": 21,
   "metadata": {},
   "outputs": [],
   "source": [
    "from base_definition import list, car, cdr, append, cons\n",
    "\n",
    "\n",
    "def make_leaf(symbol, weight):\n",
    "    return list(\"leaf\", symbol, weight)\n",
    "\n",
    "\n",
    "def is_leaf(object):\n",
    "    return car(object) == \"leaf\"\n",
    "\n",
    "\n",
    "def symbol_leaf(x):\n",
    "    return car(cdr(x))\n",
    "\n",
    "\n",
    "def weight_leaf(x):\n",
    "    return car(cdr(cdr(x)))\n",
    "\n",
    "\n",
    "def make_code_tree(left, right):\n",
    "    return list(\n",
    "        left, right, append(symbols(left), symbols(right)), weight(left) + weight(right)\n",
    "    )\n",
    "\n",
    "\n",
    "def left_branch(tree):\n",
    "    return car(tree)\n",
    "\n",
    "\n",
    "def right_branch(tree):\n",
    "    return car(cdr(tree))\n",
    "\n",
    "\n",
    "def symbols(tree):\n",
    "    if is_leaf(tree):\n",
    "        return list(symbol_leaf(tree))\n",
    "    return car(cdr(cdr(tree)))\n",
    "\n",
    "\n",
    "def weight(tree):\n",
    "    if is_leaf(tree):\n",
    "        return weight_leaf(tree)\n",
    "    return car(cdr(cdr(cdr(tree))))\n",
    "\n"
   ]
  },
  {
   "cell_type": "code",
   "execution_count": 22,
   "metadata": {},
   "outputs": [],
   "source": [
    "def decode(bits, tree):\n",
    "\n",
    "    def decode_1(bits, current_branch):\n",
    "        if bits is None:\n",
    "            return None\n",
    "        next_branch = choose_branch(car(bits), current_branch)\n",
    "        if is_leaf(next_branch):\n",
    "            return cons(symbol_leaf(next_branch), decode_1(cdr(bits), tree))\n",
    "        return decode_1(cdr(bits), next_branch)\n",
    "\n",
    "    return decode_1(bits, tree)\n",
    "\n",
    "\n",
    "def choose_branch(bit, branch):\n",
    "    if bit == 0:\n",
    "        return left_branch(branch)\n",
    "    if bit == 1:\n",
    "        return right_branch(branch)\n",
    "    raise Exception(\"unsupported value {0}\".format(bit))"
   ]
  },
  {
   "cell_type": "code",
   "execution_count": 23,
   "metadata": {},
   "outputs": [
    {
     "name": "stdout",
     "output_type": "stream",
     "text": [
      "( ( B 2 ) ( A 4 ) ( C 1 ) ( D 1 ) )\n",
      "( ( leaf D 1 ) ( leaf C 1 ) ( leaf B 2 ) ( leaf A 4 ) )\n"
     ]
    }
   ],
   "source": [
    "from base_definition import display_list\n",
    "\n",
    "\n",
    "def adjoin_set(x, set):\n",
    "    if set is None:\n",
    "        return list(x)\n",
    "    if weight(x) < weight(car(set)):\n",
    "        return cons(x, set)\n",
    "    return cons(car(set), adjoin_set(x, cdr(set)))\n",
    "\n",
    "\n",
    "def make_leaf_set(pairs):\n",
    "    if pairs is None:\n",
    "        return None\n",
    "    pair = car(pairs)\n",
    "    return adjoin_set(make_leaf(car(pair), car(cdr(pair))), make_leaf_set(cdr(pairs)))\n",
    "\n",
    "\n",
    "pairs = list(list(\"B\", 2), list(\"A\", 4), list(\"C\", 1), list(\"D\", 1))\n",
    "display_list(pairs)\n",
    "display_list(make_leaf_set(pairs))"
   ]
  },
  {
   "cell_type": "markdown",
   "metadata": {},
   "source": [
    "### 2.67 "
   ]
  },
  {
   "cell_type": "code",
   "execution_count": 24,
   "metadata": {},
   "outputs": [
    {
     "name": "stdout",
     "output_type": "stream",
     "text": [
      "( A D A B B C A )\n"
     ]
    }
   ],
   "source": [
    "def sample_tree():\n",
    "    return make_code_tree(\n",
    "        make_leaf(\"A\", 4),\n",
    "        make_code_tree(make_leaf(\"B\", 2), make_code_tree(make_leaf(\"D\", 1), make_leaf(\"C\", 1)))\n",
    "    )\n",
    "\n",
    "\n",
    "def sample_message():\n",
    "    return list(0, 1, 1, 0, 0, 1, 0, 1, 0, 1, 1, 1, 0)\n",
    "\n",
    "display_list(decode(sample_message(), sample_tree()))"
   ]
  },
  {
   "cell_type": "markdown",
   "metadata": {},
   "source": [
    "### 2.68 "
   ]
  },
  {
   "cell_type": "code",
   "execution_count": 25,
   "metadata": {},
   "outputs": [
    {
     "name": "stdout",
     "output_type": "stream",
     "text": [
      "( 0 1 1 0 0 1 0 1 0 1 1 1 0 )\n"
     ]
    }
   ],
   "source": [
    "def encode(message, tree):\n",
    "    if message is None:\n",
    "        return None\n",
    "    return append(encode_symbol(car(message), tree), encode(cdr(message), tree))\n",
    "\n",
    "\n",
    "def decode(bits, tree):\n",
    "\n",
    "    def decode_1(bits, current_branch):\n",
    "        if bits is None:\n",
    "            return None\n",
    "        next_branch = choose_branch(car(bits), current_branch)\n",
    "        if is_leaf(next_branch):\n",
    "            return cons(symbol_leaf(next_branch), decode_1(cdr(bits), tree))\n",
    "        return decode_1(cdr(bits), next_branch)\n",
    "\n",
    "    return decode_1(bits, tree)\n",
    "\n",
    "\n",
    "def encode_symbol(flag, tree):\n",
    "    if is_leaf(tree):\n",
    "        return None\n",
    "    left = left_branch(tree)\n",
    "    right = right_branch(tree)\n",
    "    if symbol_in_tree(flag, left):\n",
    "        return cons(0, encode_symbol(flag, left))\n",
    "    if symbol_in_tree(flag, right):\n",
    "        return cons(1, encode_symbol(flag, right))\n",
    "    else:\n",
    "        raise Exception(\"unsupported char {0}\".format(flag))\n",
    "\n",
    "\n",
    "def symbol_in_tree(flag, tree):\n",
    "    if tree is None:\n",
    "        return False\n",
    "    if not callable(tree):\n",
    "        display_list(tree)\n",
    "    if is_leaf(tree):\n",
    "        if symbol_leaf(tree).lower() == flag.lower():\n",
    "            return True\n",
    "        return False\n",
    "    \n",
    "    return symbol_in_tree(flag, car(tree)) or symbol_in_tree(flag, cdr(tree))\n",
    "\n",
    "\n",
    "def sample_message():\n",
    "    return list(\"A\", \"D\", \"A\", \"B\", \"B\", \"C\", \"A\")\n",
    "\n",
    "\n",
    "display_list(encode(sample_message(), sample_tree()))"
   ]
  },
  {
   "cell_type": "markdown",
   "metadata": {},
   "source": [
    "### 2.69 "
   ]
  },
  {
   "cell_type": "code",
   "execution_count": 26,
   "metadata": {},
   "outputs": [
    {
     "name": "stdout",
     "output_type": "stream",
     "text": [
      "( ( leaf A 4 ) ( ( leaf B 2 ) ( ( leaf D 1 ) ( leaf C 1 ) ( D C ) 2 ) ( B D C ) 4 ) ( A B D C ) 8 )\n"
     ]
    }
   ],
   "source": [
    "from base_definition import  car, cdr, cons\n",
    "from base_definition import display_list, list\n",
    "\n",
    "def make_leaf(symbol, weight):\n",
    "    return list(\"leaf\", symbol, weight)\n",
    "\n",
    "def adjoin_set(x, set):\n",
    "    if set is None:\n",
    "        return list(x)\n",
    "    if weight(x) < weight(car(set)):\n",
    "        return cons(x, set)\n",
    "    return cons(car(set), adjoin_set(x, cdr(set)))\n",
    "\n",
    "\n",
    "def make_leaf_set(pairs):\n",
    "    if pairs is None:\n",
    "        return None\n",
    "    pair = car(pairs)\n",
    "    return adjoin_set(make_leaf(car(pair), car(cdr(pair))), make_leaf_set(cdr(pairs)))\n",
    "\n",
    "def generate_huffman_tree(lst):\n",
    "    pairs = make_leaf_set(lst)\n",
    "    return successive_merge(pairs)\n",
    "\n",
    "\n",
    "def successive_merge(pairs):\n",
    "    if cdr(pairs) is None:\n",
    "        return car(pairs)\n",
    "    right = car(pairs)\n",
    "    left = car(cdr(pairs))\n",
    "    rest = cdr(cdr(pairs))\n",
    "    return successive_merge(adjoin_set(make_code_tree(right, left), rest))\n",
    "\n",
    "lst = list(list(\"B\", 2), list(\"A\", 4), list(\"C\", 1), list(\"D\", 1))\n",
    "tree = generate_huffman_tree(lst)\n",
    "display_list(tree)"
   ]
  },
  {
   "cell_type": "markdown",
   "metadata": {},
   "source": [
    "### 2.70 "
   ]
  },
  {
   "cell_type": "code",
   "execution_count": 27,
   "metadata": {},
   "outputs": [
    {
     "name": "stdout",
     "output_type": "stream",
     "text": [
      "( ( leaf NA 16 ) ( ( leaf YIP 9 ) ( ( ( leaf A 2 ) ( ( leaf WAH 1 ) ( leaf BOOM 1 ) ( WAH BOOM ) 2 ) ( A WAH BOOM ) 4 ) ( ( leaf SHA 3 ) ( ( leaf JOB 2 ) ( leaf GET 2 ) ( JOB GET ) 4 ) ( SHA JOB GET ) 7 ) ( A WAH BOOM SHA JOB GET ) 11 ) ( YIP A WAH BOOM SHA JOB GET ) 20 ) ( NA YIP A WAH BOOM SHA JOB GET ) 36 )\n",
      "( 1 1 1 1 1 1 1 0 0 1 1 1 1 0 1 1 1 0 0 0 0 0 0 0 0 0 1 1 1 1 1 1 1 0 0 1 1 1 1 0 1 1 1 0 0 0 0 0 0 0 0 0 1 1 0 1 0 1 0 1 0 1 0 1 0 1 0 1 0 1 0 1 0 1 0 1 1 1 0 1 1 0 1 1 )\n"
     ]
    }
   ],
   "source": [
    "from base_definition import display_list, list, append\n",
    "\n",
    "def encode(message, tree):\n",
    "    if message is None:\n",
    "        return None\n",
    "    return append(encode_symbol(car(message), tree), encode(cdr(message), tree))\n",
    "\n",
    "\n",
    "def encode_symbol(flag, tree):\n",
    "    if is_leaf(tree):\n",
    "        return None\n",
    "    left = left_branch(tree)\n",
    "    right = right_branch(tree)\n",
    "    if symbol_in_tree(flag, left):\n",
    "        return cons(0, encode_symbol(flag, left))\n",
    "    if symbol_in_tree(flag, right):\n",
    "        return cons(1, encode_symbol(flag, right))\n",
    "    else:\n",
    "        raise Exception(\"unsupported char {0}\".format(flag))\n",
    "\n",
    "\n",
    "def symbol_in_tree(flag, tree):\n",
    "    if tree is None:\n",
    "        return False\n",
    "    # display_list(tree)\n",
    "    if not callable(tree):\n",
    "        if isinstance(tree, str):\n",
    "            return tree.lower() == flag.lower()\n",
    "        return False\n",
    "    if is_leaf(tree):\n",
    "        if symbol_leaf(tree).lower() == flag.lower():\n",
    "            return True\n",
    "        return False\n",
    "    \n",
    "    return symbol_in_tree(flag, car(tree)) or symbol_in_tree(flag, cdr(tree))\n",
    "\n",
    "lst = list(\n",
    "    list(\"A\", 2),\n",
    "    list(\"NA\", 16),\n",
    "    list(\"BOOM\", 1),\n",
    "    list(\"SHA\", 3),\n",
    "    list(\"GET\", 2),\n",
    "    list(\"YIP\", 9),\n",
    "    list(\"JOB\", 2),\n",
    "    list(\"WAH\", 1),\n",
    ")\n",
    "\n",
    "def adjoin_set(x, set):\n",
    "    if set is None:\n",
    "        return list(x)\n",
    "    if weight(x) < weight(car(set)):\n",
    "        return cons(x, set)\n",
    "    return cons(car(set), adjoin_set(x, cdr(set)))\n",
    "\n",
    "\n",
    "def make_leaf_set(pairs):\n",
    "    if pairs is None:\n",
    "        return None\n",
    "    pair = car(pairs)\n",
    "    return adjoin_set(make_leaf(car(pair), car(cdr(pair))), make_leaf_set(cdr(pairs)))\n",
    "\n",
    "def generate_huffman_tree(lst):\n",
    "    pairs = make_leaf_set(lst)\n",
    "    # display_list(pairs)\n",
    "    return successive_merge(pairs)\n",
    "\n",
    "\n",
    "def successive_merge(pairs):\n",
    "    if cdr(pairs) is None:\n",
    "        return car(pairs)\n",
    "    right = car(pairs)\n",
    "    left = car(cdr(pairs))\n",
    "    rest = cdr(cdr(pairs))\n",
    "    # display_list(right)\n",
    "    # display_list(left)\n",
    "    # display_list(rest)\n",
    "    return successive_merge(adjoin_set(make_code_tree(right, left), rest))\n",
    "\n",
    "tree = generate_huffman_tree(lst)\n",
    "message = list(\"Get\", \"a\", \"job\", \n",
    "               \"Sha\", \"na\", \"na\", \"na\", \"na\", \"na\", \"na\", \"na\", \"na\", \n",
    "               \"Get\", \"a\", \"job\",\n",
    "               \"Sha\", \"na\", \"na\", \"na\", \"na\", \"na\", \"na\", \"na\", \"na\",\n",
    "               \"Wah\", \"yip\", \"yip\", \"yip\", \"yip\", \"yip\", \"yip\", \"yip\", \"yip\", \"yip\",\n",
    "               \"Sha\", \"boom\"\n",
    "               )\n",
    "# message = list(\"Get\", \"a\", \"job\")\n",
    "display_list(tree)\n",
    "encode_message = encode(message, tree)\n",
    "display_list(encode_message)\n"
   ]
  },
  {
   "cell_type": "markdown",
   "metadata": {},
   "source": [
    "### 2.71 \n",
    "根据给定的相对频度，会建立一个不平衡二叉树  \n",
    "1. n=5, 最频繁的符号用1个二进制位，最不频繁的符号用4个二进制位  \n",
    "2. n=10, 最频繁的符号用1个二进制位，最不频繁的符号用9个二进制位  "
   ]
  },
  {
   "cell_type": "markdown",
   "metadata": {},
   "source": [
    "### 2.72  \n",
    "refer to https://sicp.readthedocs.io/en/latest/chp2/72.html  "
   ]
  },
  {
   "cell_type": "code",
   "execution_count": null,
   "metadata": {},
   "outputs": [],
   "source": []
  }
 ],
 "metadata": {
  "kernelspec": {
   "display_name": "Python 3",
   "language": "python",
   "name": "python3"
  },
  "language_info": {
   "codemirror_mode": {
    "name": "ipython",
    "version": 3
   },
   "file_extension": ".py",
   "mimetype": "text/x-python",
   "name": "python",
   "nbconvert_exporter": "python",
   "pygments_lexer": "ipython3",
   "version": "3.11.5"
  }
 },
 "nbformat": 4,
 "nbformat_minor": 2
}
