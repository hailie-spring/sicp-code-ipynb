{
 "cells": [
  {
   "cell_type": "markdown",
   "metadata": {},
   "source": [
    "### 流实现的行为方式  "
   ]
  },
  {
   "cell_type": "code",
   "execution_count": null,
   "metadata": {},
   "outputs": [],
   "source": [
    "from base_definition import cons_stream, car_stream, cdr_stream\n",
    "\n",
    "\n",
    "def enumerate_interval_stream(start, end):\n",
    "    if start > end:\n",
    "        return None\n",
    "    return cons_stream(start, lambda: enumerate_interval_stream(start + 1, end))\n",
    "\n",
    "\n",
    "stream = enumerate_interval_stream(8, 100)\n",
    "\n",
    "\n",
    "def filter_stream(pred, stream):\n",
    "    if stream is None:\n",
    "        return None\n",
    "    if pred(car_stream(stream)):\n",
    "        return cons_stream(\n",
    "            car_stream(stream), lambda: filter_stream(pred, cdr_stream(stream))\n",
    "        )\n",
    "    return filter_stream(pred, cdr_stream(stream))\n",
    "\n",
    "\n",
    "def is_primer(n):\n",
    "    def square(x):\n",
    "        return x * x\n",
    "\n",
    "    def smallest_divisor(n):\n",
    "        def find_divisor(n, test_divisor):\n",
    "            if square(test_divisor) > n:\n",
    "                return n\n",
    "            if n % test_divisor == 0:\n",
    "                return test_divisor\n",
    "            return find_divisor(n, test_divisor + 1)\n",
    "\n",
    "        return find_divisor(n, 2)\n",
    "\n",
    "    return smallest_divisor(n) == n\n",
    "\n",
    "\n",
    "f_stream = filter_stream(is_primer, stream)\n",
    "print(car_stream(f_stream))\n",
    "print(car_stream(cdr_stream(f_stream)))"
   ]
  },
  {
   "cell_type": "markdown",
   "metadata": {},
   "source": [
    "### memo_proc"
   ]
  },
  {
   "cell_type": "code",
   "execution_count": null,
   "metadata": {},
   "outputs": [],
   "source": [
    "from base_definition import cons_stream, car_stream, cdr_stream\n",
    "\n",
    "\n",
    "def memo_proc(proc):\n",
    "    already_run = False\n",
    "    result = False\n",
    "\n",
    "    def sub_func():\n",
    "        nonlocal already_run\n",
    "        nonlocal result\n",
    "        if already_run:\n",
    "            return result\n",
    "        else:\n",
    "            result = proc()\n",
    "            already_run = True\n",
    "            return result\n",
    "\n",
    "    return sub_func\n",
    "\n",
    "\n",
    "f = lambda: 1\n",
    "print(memo_proc(f)())\n",
    "print(memo_proc(f)())"
   ]
  },
  {
   "cell_type": "markdown",
   "metadata": {},
   "source": [
    "### 3.50 \n",
    "1. one parameter map stream\n",
    "2. multi parameters map stream"
   ]
  },
  {
   "cell_type": "code",
   "execution_count": null,
   "metadata": {},
   "outputs": [],
   "source": [
    "from base_definition import cons_stream, cdr_stream, car_stream, enumerate_interval_stream\n",
    "\n",
    "\n",
    "def map_stream(proc, stream):\n",
    "    if stream is None:\n",
    "        return None\n",
    "    return cons_stream(proc(car_stream(stream)), lambda: map_stream(proc, cdr_stream(stream)))\n",
    "\n",
    "\n",
    "stream = enumerate_interval_stream(2, 7)\n",
    "m_stream = map_stream(lambda x: x * x, stream)\n",
    "print(car_stream(m_stream))\n",
    "print(car_stream(cdr_stream(m_stream)))"
   ]
  },
  {
   "cell_type": "code",
   "execution_count": null,
   "metadata": {},
   "outputs": [],
   "source": [
    "from base_definition import (\n",
    "    cons_stream,\n",
    "    cdr_stream,\n",
    "    car_stream,\n",
    "    enumerate_interval_stream,\n",
    ")\n",
    "\n",
    "def map_stream(proc, *stream):\n",
    "    params = []\n",
    "    next_stream = []\n",
    "    for arg in stream:\n",
    "        if arg is None:\n",
    "            return\n",
    "        params.append(car_stream(arg))\n",
    "        next_stream.append(cdr_stream(arg))\n",
    "    return cons_stream(proc(*params), lambda : map_stream(proc, *next_stream))\n",
    "\n",
    "\n",
    "s1 = enumerate_interval_stream(1, 1)\n",
    "s2 = enumerate_interval_stream(1, 1)\n",
    "s = map_stream(lambda x, y: x + y, s1, s2)\n",
    "print(car_stream(s))\n",
    "print(cdr_stream(s))"
   ]
  },
  {
   "cell_type": "markdown",
   "metadata": {},
   "source": [
    "### 3.51 "
   ]
  },
  {
   "cell_type": "code",
   "execution_count": null,
   "metadata": {},
   "outputs": [],
   "source": [
    "from base_definition import ref_stream, map_stream, enumerate_interval_stream\n",
    "stream = map_stream(print, enumerate_interval_stream(1, 10))\n",
    "ref_stream(stream, 5)\n",
    "ref_stream(stream, 7)\n",
    "\n",
    "\n"
   ]
  },
  {
   "cell_type": "markdown",
   "metadata": {},
   "source": [
    "### 3.52 "
   ]
  },
  {
   "cell_type": "code",
   "execution_count": null,
   "metadata": {},
   "outputs": [],
   "source": [
    "from base_definition import (\n",
    "    enumerate_interval_stream,\n",
    "    map_stream,\n",
    "    filter_stream,\n",
    "    cdr_stream,\n",
    "    car_stream,\n",
    "    ref_stream,\n",
    "    display_stream\n",
    ")\n",
    "\n",
    "sum = 0\n",
    "\n",
    "\n",
    "def accum(x):\n",
    "    global sum\n",
    "    sum += x\n",
    "    return sum\n",
    "\n",
    "\n",
    "def is_even(x):\n",
    "    return x % 2 == 0\n",
    "\n",
    "\n",
    "stream = map_stream(accum, enumerate_interval_stream(1, 5))\n",
    "display_stream(stream)\n",
    "print(sum)\n",
    "display_stream(stream)\n",
    "print(sum)\n",
    "y = filter_stream(is_even, stream)\n",
    "display_stream(y)\n",
    "z = filter_stream(lambda x: x % 5 == 0, stream)\n",
    "print(car_stream(y))\n",
    "print(car_stream(z))\n",
    "print(ref_stream(y, 7))\n",
    "print(sum)"
   ]
  },
  {
   "cell_type": "markdown",
   "metadata": {},
   "source": [
    "### 所有不能被7整除的整数无穷流 "
   ]
  },
  {
   "cell_type": "code",
   "execution_count": null,
   "metadata": {},
   "outputs": [],
   "source": [
    "from base_definition import (\n",
    "    cons_stream,\n",
    "    delay,\n",
    "    filter_stream,\n",
    "    ref_stream,\n",
    "    car_stream,\n",
    "    cdr_stream,\n",
    ")\n",
    "\n",
    "\n",
    "def integers_starting_from(n):\n",
    "    return cons_stream(n, lambda: integers_starting_from(n + 1))\n",
    "\n",
    "\n",
    "def divisible(x, y):\n",
    "    return x % y == 0\n",
    "\n",
    "\n",
    "integers = integers_starting_from(1)\n",
    "no_sevens = filter_stream(lambda x: not divisible(x, 7), integers)\n",
    "\n",
    "print(ref_stream(no_sevens, 100))"
   ]
  },
  {
   "cell_type": "markdown",
   "metadata": {},
   "source": [
    "### 斐波那契数列的无穷流 "
   ]
  },
  {
   "cell_type": "code",
   "execution_count": null,
   "metadata": {},
   "outputs": [],
   "source": [
    "from base_definition import cons_stream, ref_stream\n",
    "\n",
    "def fibgen(a, b):\n",
    "    return cons_stream(a, lambda : fibgen(b, a+b))\n",
    "\n",
    "print(ref_stream(fibgen(0, 1), 3))"
   ]
  },
  {
   "cell_type": "markdown",
   "metadata": {},
   "source": [
    "### 利用厄拉多塞筛法，构造素数的无穷流 "
   ]
  },
  {
   "cell_type": "code",
   "execution_count": null,
   "metadata": {},
   "outputs": [],
   "source": [
    "from base_definition import (\n",
    "    cons_stream,\n",
    "    filter_stream,\n",
    "    ref_stream,\n",
    "    car_stream,\n",
    "    cdr_stream,\n",
    ")\n",
    "\n",
    "\n",
    "def sieve(stream):\n",
    "    return cons_stream(\n",
    "        car_stream(stream),\n",
    "        lambda: sieve(\n",
    "            filter_stream(lambda x: x % car_stream(stream) != 0, cdr_stream(stream))\n",
    "        ),\n",
    "    )\n",
    "\n",
    "\n",
    "print(ref_stream(sieve(integers_starting_from(2)), 50))"
   ]
  },
  {
   "cell_type": "markdown",
   "metadata": {},
   "source": [
    "### 隐式地定义整数的一个无穷流\n"
   ]
  },
  {
   "cell_type": "code",
   "execution_count": null,
   "metadata": {},
   "outputs": [],
   "source": [
    "from base_definition import cons_stream, map_stream, ref_stream\n",
    "\n",
    "\n",
    "def ones():\n",
    "    return cons_stream(1, lambda: ones())\n",
    "\n",
    "\n",
    "def add_stream(s1, s2):\n",
    "    return map_stream(lambda x1, x2: x1 + x2, s1, s2)\n",
    "\n",
    "\n",
    "def integers():\n",
    "    def integers_helper(current):\n",
    "        value = current + 1\n",
    "        return cons_stream(value, lambda: integers_helper(value))\n",
    "\n",
    "    return integers_helper(0)\n",
    "\n",
    "\n",
    "s = integers()\n",
    "print(ref_stream(s, 2))\n",
    "print(ref_stream(s, 10))"
   ]
  },
  {
   "cell_type": "markdown",
   "metadata": {},
   "source": [
    "### 倍数增加stream  "
   ]
  },
  {
   "cell_type": "code",
   "execution_count": null,
   "metadata": {},
   "outputs": [],
   "source": [
    "from base_definition import map_stream, delay, cons_stream, ref_stream\n",
    "\n",
    "\n",
    "def scale_stream(stream, factor):\n",
    "    return map_stream(lambda x: x * factor, stream)\n",
    "\n",
    "\n",
    "def ones():\n",
    "    return cons_stream(1, lambda: ones())\n",
    "\n",
    "\n",
    "s = scale_stream(ones(), 2)\n",
    "\n",
    "print(ref_stream(s, 3))"
   ]
  },
  {
   "cell_type": "markdown",
   "metadata": {},
   "source": [
    "### 3.53 \n",
    "2， 4， 8， 16， 32， 64"
   ]
  },
  {
   "cell_type": "code",
   "execution_count": null,
   "metadata": {},
   "outputs": [],
   "source": [
    "from base_definition import add_stream, cons_stream, ref_stream\n",
    "\n",
    "\n",
    "def double_sum():\n",
    "    def double_sum_helper(current_sum):\n",
    "        value = current_sum + current_sum\n",
    "        return cons_stream(value, lambda: double_sum_helper(value))\n",
    "\n",
    "    return double_sum_helper(1)\n",
    "\n",
    "\n",
    "s = double_sum()\n",
    "print(ref_stream(s, 1))\n",
    "print(ref_stream(s, 3))\n",
    "print(ref_stream(s, 6))"
   ]
  },
  {
   "cell_type": "markdown",
   "metadata": {},
   "source": [
    "### 3.54 \n"
   ]
  },
  {
   "cell_type": "code",
   "execution_count": null,
   "metadata": {},
   "outputs": [],
   "source": [
    "from base_definition import cons_stream, map_stream, cdr_stream\n",
    "\n",
    "\n",
    "def integers_starting_from(n):\n",
    "    return cons_stream(n, lambda: integers_starting_from(n + 1))\n",
    "\n",
    "\n",
    "integers = integers_starting_from(1)\n",
    "\n",
    "\n",
    "def factorials(s):\n",
    "\n",
    "    def partial_mul_helper(s, current_mul):\n",
    "        value = car_stream(s) * current_mul\n",
    "        return cons_stream(\n",
    "            value,\n",
    "            lambda: partial_mul_helper(cdr_stream(s), value),\n",
    "        )\n",
    "\n",
    "    return partial_mul_helper(s, 1)\n",
    "\n",
    "\n",
    "s = factorials(integers)\n",
    "\n",
    "print(ref_stream(s, 1))\n",
    "print(ref_stream(s, 5))"
   ]
  },
  {
   "cell_type": "markdown",
   "metadata": {},
   "source": [
    "### 3.55 "
   ]
  },
  {
   "cell_type": "code",
   "execution_count": null,
   "metadata": {},
   "outputs": [],
   "source": [
    "from base_definition import cons_stream, ref_stream, add_stream, cdr_stream, car_stream\n",
    "\n",
    "\n",
    "def partial_sums(s):\n",
    "    def partial_sums_helper(s, current_sum):\n",
    "        value = car_stream(s) + current_sum\n",
    "        return cons_stream(\n",
    "            value,\n",
    "            lambda: partial_sums_helper(cdr_stream(s), value),\n",
    "        )\n",
    "\n",
    "    return partial_sums_helper(s, 0)\n",
    "\n",
    "\n",
    "def integers_starting_from(n):\n",
    "    return cons_stream(n, lambda: integers_starting_from(n + 1))\n",
    "\n",
    "\n",
    "integers = integers_starting_from(1)\n",
    "\n",
    "t = partial_sums(integers)\n",
    "print(ref_stream(t, 1))\n",
    "print(ref_stream(t, 2))\n",
    "print(ref_stream(t, 3))"
   ]
  },
  {
   "cell_type": "code",
   "execution_count": null,
   "metadata": {},
   "outputs": [],
   "source": [
    "def partial_sums(stream):\n",
    "    \"\"\"Generate a stream of partial sums from the input stream.\"\"\"\n",
    "    total = 0\n",
    "    for value in stream:\n",
    "        total += value\n",
    "        yield total\n",
    "\n",
    "# Example usage:\n",
    "def integers_starting_from(n):\n",
    "    \"\"\"Generate an infinite stream of integers starting from n.\"\"\"\n",
    "    while True:\n",
    "        yield n\n",
    "        n += 1\n",
    "\n",
    "# Create an infinite stream of integers starting from 1\n",
    "integers = integers_starting_from(1)\n",
    "\n",
    "# Create a stream of partial sums\n",
    "partial_sums_stream = partial_sums(integers)\n",
    "\n",
    "# Print the first 10 elements of the partial sums stream\n",
    "for _ in range(10):\n",
    "    print(next(partial_sums_stream))\n"
   ]
  },
  {
   "cell_type": "markdown",
   "metadata": {},
   "source": [
    "### 3.56 \n",
    "wrong answers"
   ]
  },
  {
   "cell_type": "code",
   "execution_count": 17,
   "metadata": {},
   "outputs": [
    {
     "name": "stdout",
     "output_type": "stream",
     "text": [
      "1\n"
     ]
    },
    {
     "ename": "RecursionError",
     "evalue": "maximum recursion depth exceeded",
     "output_type": "error",
     "traceback": [
      "\u001b[1;31m---------------------------------------------------------------------------\u001b[0m",
      "\u001b[1;31mRecursionError\u001b[0m                            Traceback (most recent call last)",
      "Cell \u001b[1;32mIn[17], line 37\u001b[0m\n\u001b[0;32m     34\u001b[0m hamming_numbers \u001b[38;5;241m=\u001b[39m hamming()\n\u001b[0;32m     36\u001b[0m \u001b[38;5;28mprint\u001b[39m(ref_stream(hamming_numbers, \u001b[38;5;241m1\u001b[39m))\n\u001b[1;32m---> 37\u001b[0m \u001b[38;5;28mprint\u001b[39m(\u001b[43mref_stream\u001b[49m\u001b[43m(\u001b[49m\u001b[43mhamming_numbers\u001b[49m\u001b[43m,\u001b[49m\u001b[43m \u001b[49m\u001b[38;5;241;43m2\u001b[39;49m\u001b[43m)\u001b[49m)\n\u001b[0;32m     38\u001b[0m \u001b[38;5;28mprint\u001b[39m(ref_stream(hamming_numbers, \u001b[38;5;241m3\u001b[39m))\n\u001b[0;32m     39\u001b[0m \u001b[38;5;28mprint\u001b[39m(ref_stream(hamming_numbers, \u001b[38;5;241m4\u001b[39m))\n",
      "File \u001b[1;32md:\\github\\sicp-code-ipynb\\chapter3\\base_definition.py:97\u001b[0m, in \u001b[0;36mref_stream\u001b[1;34m(s, n)\u001b[0m\n\u001b[0;32m     95\u001b[0m \u001b[38;5;28;01mif\u001b[39;00m s \u001b[38;5;129;01mis\u001b[39;00m \u001b[38;5;28;01mNone\u001b[39;00m:\n\u001b[0;32m     96\u001b[0m     \u001b[38;5;28;01mreturn\u001b[39;00m \u001b[38;5;28;01mNone\u001b[39;00m\n\u001b[1;32m---> 97\u001b[0m \u001b[38;5;28;01mreturn\u001b[39;00m ref_stream(\u001b[43mcdr_stream\u001b[49m\u001b[43m(\u001b[49m\u001b[43ms\u001b[49m\u001b[43m)\u001b[49m, n \u001b[38;5;241m-\u001b[39m \u001b[38;5;241m1\u001b[39m)\n",
      "File \u001b[1;32md:\\github\\sicp-code-ipynb\\chapter3\\base_definition.py:61\u001b[0m, in \u001b[0;36mcdr_stream\u001b[1;34m(z)\u001b[0m\n\u001b[0;32m     60\u001b[0m \u001b[38;5;28;01mdef\u001b[39;00m \u001b[38;5;21mcdr_stream\u001b[39m(z):\n\u001b[1;32m---> 61\u001b[0m     \u001b[38;5;28;01mreturn\u001b[39;00m \u001b[43mforce\u001b[49m\u001b[43m(\u001b[49m\u001b[43mcdr\u001b[49m\u001b[43m(\u001b[49m\u001b[43mz\u001b[49m\u001b[43m)\u001b[49m\u001b[43m)\u001b[49m\n",
      "File \u001b[1;32md:\\github\\sicp-code-ipynb\\chapter3\\base_definition.py:73\u001b[0m, in \u001b[0;36mforce\u001b[1;34m(func)\u001b[0m\n\u001b[0;32m     72\u001b[0m \u001b[38;5;28;01mdef\u001b[39;00m \u001b[38;5;21mforce\u001b[39m(func):\n\u001b[1;32m---> 73\u001b[0m     \u001b[38;5;28;01mreturn\u001b[39;00m \u001b[43mfunc\u001b[49m\u001b[43m(\u001b[49m\u001b[43m)\u001b[49m\n",
      "Cell \u001b[1;32mIn[17], line 25\u001b[0m, in \u001b[0;36mhamming.<locals>.hamming_helper.<locals>.<lambda>\u001b[1;34m()\u001b[0m\n\u001b[0;32m     20\u001b[0m \u001b[38;5;28;01mdef\u001b[39;00m \u001b[38;5;21mhamming_helper\u001b[39m():\n\u001b[0;32m     21\u001b[0m     \u001b[38;5;28;01mreturn\u001b[39;00m cons_stream(\n\u001b[0;32m     22\u001b[0m         \u001b[38;5;241m1\u001b[39m,\n\u001b[0;32m     23\u001b[0m         \u001b[38;5;28;01mlambda\u001b[39;00m: merge_streams(\n\u001b[0;32m     24\u001b[0m             merge_streams(\n\u001b[1;32m---> 25\u001b[0m                 \u001b[43mscale_stream\u001b[49m\u001b[43m(\u001b[49m\u001b[43mhamming_stream\u001b[49m\u001b[43m,\u001b[49m\u001b[43m \u001b[49m\u001b[38;5;241;43m2\u001b[39;49m\u001b[43m)\u001b[49m, scale_stream(hamming_stream, \u001b[38;5;241m3\u001b[39m)\n\u001b[0;32m     26\u001b[0m             ),\n\u001b[0;32m     27\u001b[0m             scale_stream(hamming_stream, \u001b[38;5;241m5\u001b[39m),\n\u001b[0;32m     28\u001b[0m         ),\n\u001b[0;32m     29\u001b[0m     )\n",
      "Cell \u001b[1;32mIn[17], line 5\u001b[0m, in \u001b[0;36mscale_stream\u001b[1;34m(stream, factor)\u001b[0m\n\u001b[0;32m      4\u001b[0m \u001b[38;5;28;01mdef\u001b[39;00m \u001b[38;5;21mscale_stream\u001b[39m(stream, factor):\n\u001b[1;32m----> 5\u001b[0m     \u001b[38;5;28;01mreturn\u001b[39;00m \u001b[43mmap_stream\u001b[49m\u001b[43m(\u001b[49m\u001b[38;5;28;43;01mlambda\u001b[39;49;00m\u001b[43m \u001b[49m\u001b[43mx\u001b[49m\u001b[43m:\u001b[49m\u001b[43m \u001b[49m\u001b[43mx\u001b[49m\u001b[43m \u001b[49m\u001b[38;5;241;43m*\u001b[39;49m\u001b[43m \u001b[49m\u001b[43mfactor\u001b[49m\u001b[43m,\u001b[49m\u001b[43m \u001b[49m\u001b[43mstream\u001b[49m\u001b[43m)\u001b[49m\n",
      "File \u001b[1;32md:\\github\\sicp-code-ipynb\\chapter3\\base_definition.py:120\u001b[0m, in \u001b[0;36mmap_stream\u001b[1;34m(proc, *stream)\u001b[0m\n\u001b[0;32m    118\u001b[0m         \u001b[38;5;28;01mreturn\u001b[39;00m\n\u001b[0;32m    119\u001b[0m     params\u001b[38;5;241m.\u001b[39mappend(car_stream(arg))\n\u001b[1;32m--> 120\u001b[0m     next_stream\u001b[38;5;241m.\u001b[39mappend(\u001b[43mcdr_stream\u001b[49m\u001b[43m(\u001b[49m\u001b[43marg\u001b[49m\u001b[43m)\u001b[49m)\n\u001b[0;32m    121\u001b[0m \u001b[38;5;28;01mreturn\u001b[39;00m cons_stream(proc(\u001b[38;5;241m*\u001b[39mparams), \u001b[38;5;28;01mlambda\u001b[39;00m: map_stream(proc, \u001b[38;5;241m*\u001b[39mnext_stream))\n",
      "File \u001b[1;32md:\\github\\sicp-code-ipynb\\chapter3\\base_definition.py:61\u001b[0m, in \u001b[0;36mcdr_stream\u001b[1;34m(z)\u001b[0m\n\u001b[0;32m     60\u001b[0m \u001b[38;5;28;01mdef\u001b[39;00m \u001b[38;5;21mcdr_stream\u001b[39m(z):\n\u001b[1;32m---> 61\u001b[0m     \u001b[38;5;28;01mreturn\u001b[39;00m \u001b[43mforce\u001b[49m\u001b[43m(\u001b[49m\u001b[43mcdr\u001b[49m\u001b[43m(\u001b[49m\u001b[43mz\u001b[49m\u001b[43m)\u001b[49m\u001b[43m)\u001b[49m\n",
      "File \u001b[1;32md:\\github\\sicp-code-ipynb\\chapter3\\base_definition.py:73\u001b[0m, in \u001b[0;36mforce\u001b[1;34m(func)\u001b[0m\n\u001b[0;32m     72\u001b[0m \u001b[38;5;28;01mdef\u001b[39;00m \u001b[38;5;21mforce\u001b[39m(func):\n\u001b[1;32m---> 73\u001b[0m     \u001b[38;5;28;01mreturn\u001b[39;00m \u001b[43mfunc\u001b[49m\u001b[43m(\u001b[49m\u001b[43m)\u001b[49m\n",
      "Cell \u001b[1;32mIn[17], line 25\u001b[0m, in \u001b[0;36mhamming.<locals>.hamming_helper.<locals>.<lambda>\u001b[1;34m()\u001b[0m\n\u001b[0;32m     20\u001b[0m \u001b[38;5;28;01mdef\u001b[39;00m \u001b[38;5;21mhamming_helper\u001b[39m():\n\u001b[0;32m     21\u001b[0m     \u001b[38;5;28;01mreturn\u001b[39;00m cons_stream(\n\u001b[0;32m     22\u001b[0m         \u001b[38;5;241m1\u001b[39m,\n\u001b[0;32m     23\u001b[0m         \u001b[38;5;28;01mlambda\u001b[39;00m: merge_streams(\n\u001b[0;32m     24\u001b[0m             merge_streams(\n\u001b[1;32m---> 25\u001b[0m                 \u001b[43mscale_stream\u001b[49m\u001b[43m(\u001b[49m\u001b[43mhamming_stream\u001b[49m\u001b[43m,\u001b[49m\u001b[43m \u001b[49m\u001b[38;5;241;43m2\u001b[39;49m\u001b[43m)\u001b[49m, scale_stream(hamming_stream, \u001b[38;5;241m3\u001b[39m)\n\u001b[0;32m     26\u001b[0m             ),\n\u001b[0;32m     27\u001b[0m             scale_stream(hamming_stream, \u001b[38;5;241m5\u001b[39m),\n\u001b[0;32m     28\u001b[0m         ),\n\u001b[0;32m     29\u001b[0m     )\n",
      "Cell \u001b[1;32mIn[17], line 5\u001b[0m, in \u001b[0;36mscale_stream\u001b[1;34m(stream, factor)\u001b[0m\n\u001b[0;32m      4\u001b[0m \u001b[38;5;28;01mdef\u001b[39;00m \u001b[38;5;21mscale_stream\u001b[39m(stream, factor):\n\u001b[1;32m----> 5\u001b[0m     \u001b[38;5;28;01mreturn\u001b[39;00m \u001b[43mmap_stream\u001b[49m\u001b[43m(\u001b[49m\u001b[38;5;28;43;01mlambda\u001b[39;49;00m\u001b[43m \u001b[49m\u001b[43mx\u001b[49m\u001b[43m:\u001b[49m\u001b[43m \u001b[49m\u001b[43mx\u001b[49m\u001b[43m \u001b[49m\u001b[38;5;241;43m*\u001b[39;49m\u001b[43m \u001b[49m\u001b[43mfactor\u001b[49m\u001b[43m,\u001b[49m\u001b[43m \u001b[49m\u001b[43mstream\u001b[49m\u001b[43m)\u001b[49m\n",
      "File \u001b[1;32md:\\github\\sicp-code-ipynb\\chapter3\\base_definition.py:120\u001b[0m, in \u001b[0;36mmap_stream\u001b[1;34m(proc, *stream)\u001b[0m\n\u001b[0;32m    118\u001b[0m         \u001b[38;5;28;01mreturn\u001b[39;00m\n\u001b[0;32m    119\u001b[0m     params\u001b[38;5;241m.\u001b[39mappend(car_stream(arg))\n\u001b[1;32m--> 120\u001b[0m     next_stream\u001b[38;5;241m.\u001b[39mappend(\u001b[43mcdr_stream\u001b[49m\u001b[43m(\u001b[49m\u001b[43marg\u001b[49m\u001b[43m)\u001b[49m)\n\u001b[0;32m    121\u001b[0m \u001b[38;5;28;01mreturn\u001b[39;00m cons_stream(proc(\u001b[38;5;241m*\u001b[39mparams), \u001b[38;5;28;01mlambda\u001b[39;00m: map_stream(proc, \u001b[38;5;241m*\u001b[39mnext_stream))\n",
      "    \u001b[1;31m[... skipping similar frames: cdr_stream at line 61 (592 times), hamming.<locals>.hamming_helper.<locals>.<lambda> at line 25 (591 times), force at line 73 (591 times), map_stream at line 120 (591 times), scale_stream at line 5 (591 times)]\u001b[0m\n",
      "File \u001b[1;32md:\\github\\sicp-code-ipynb\\chapter3\\base_definition.py:73\u001b[0m, in \u001b[0;36mforce\u001b[1;34m(func)\u001b[0m\n\u001b[0;32m     72\u001b[0m \u001b[38;5;28;01mdef\u001b[39;00m \u001b[38;5;21mforce\u001b[39m(func):\n\u001b[1;32m---> 73\u001b[0m     \u001b[38;5;28;01mreturn\u001b[39;00m \u001b[43mfunc\u001b[49m\u001b[43m(\u001b[49m\u001b[43m)\u001b[49m\n",
      "Cell \u001b[1;32mIn[17], line 25\u001b[0m, in \u001b[0;36mhamming.<locals>.hamming_helper.<locals>.<lambda>\u001b[1;34m()\u001b[0m\n\u001b[0;32m     20\u001b[0m \u001b[38;5;28;01mdef\u001b[39;00m \u001b[38;5;21mhamming_helper\u001b[39m():\n\u001b[0;32m     21\u001b[0m     \u001b[38;5;28;01mreturn\u001b[39;00m cons_stream(\n\u001b[0;32m     22\u001b[0m         \u001b[38;5;241m1\u001b[39m,\n\u001b[0;32m     23\u001b[0m         \u001b[38;5;28;01mlambda\u001b[39;00m: merge_streams(\n\u001b[0;32m     24\u001b[0m             merge_streams(\n\u001b[1;32m---> 25\u001b[0m                 \u001b[43mscale_stream\u001b[49m\u001b[43m(\u001b[49m\u001b[43mhamming_stream\u001b[49m\u001b[43m,\u001b[49m\u001b[43m \u001b[49m\u001b[38;5;241;43m2\u001b[39;49m\u001b[43m)\u001b[49m, scale_stream(hamming_stream, \u001b[38;5;241m3\u001b[39m)\n\u001b[0;32m     26\u001b[0m             ),\n\u001b[0;32m     27\u001b[0m             scale_stream(hamming_stream, \u001b[38;5;241m5\u001b[39m),\n\u001b[0;32m     28\u001b[0m         ),\n\u001b[0;32m     29\u001b[0m     )\n",
      "Cell \u001b[1;32mIn[17], line 5\u001b[0m, in \u001b[0;36mscale_stream\u001b[1;34m(stream, factor)\u001b[0m\n\u001b[0;32m      4\u001b[0m \u001b[38;5;28;01mdef\u001b[39;00m \u001b[38;5;21mscale_stream\u001b[39m(stream, factor):\n\u001b[1;32m----> 5\u001b[0m     \u001b[38;5;28;01mreturn\u001b[39;00m \u001b[43mmap_stream\u001b[49m\u001b[43m(\u001b[49m\u001b[38;5;28;43;01mlambda\u001b[39;49;00m\u001b[43m \u001b[49m\u001b[43mx\u001b[49m\u001b[43m:\u001b[49m\u001b[43m \u001b[49m\u001b[43mx\u001b[49m\u001b[43m \u001b[49m\u001b[38;5;241;43m*\u001b[39;49m\u001b[43m \u001b[49m\u001b[43mfactor\u001b[49m\u001b[43m,\u001b[49m\u001b[43m \u001b[49m\u001b[43mstream\u001b[49m\u001b[43m)\u001b[49m\n",
      "File \u001b[1;32md:\\github\\sicp-code-ipynb\\chapter3\\base_definition.py:120\u001b[0m, in \u001b[0;36mmap_stream\u001b[1;34m(proc, *stream)\u001b[0m\n\u001b[0;32m    118\u001b[0m         \u001b[38;5;28;01mreturn\u001b[39;00m\n\u001b[0;32m    119\u001b[0m     params\u001b[38;5;241m.\u001b[39mappend(car_stream(arg))\n\u001b[1;32m--> 120\u001b[0m     next_stream\u001b[38;5;241m.\u001b[39mappend(\u001b[43mcdr_stream\u001b[49m\u001b[43m(\u001b[49m\u001b[43marg\u001b[49m\u001b[43m)\u001b[49m)\n\u001b[0;32m    121\u001b[0m \u001b[38;5;28;01mreturn\u001b[39;00m cons_stream(proc(\u001b[38;5;241m*\u001b[39mparams), \u001b[38;5;28;01mlambda\u001b[39;00m: map_stream(proc, \u001b[38;5;241m*\u001b[39mnext_stream))\n",
      "File \u001b[1;32md:\\github\\sicp-code-ipynb\\chapter3\\base_definition.py:61\u001b[0m, in \u001b[0;36mcdr_stream\u001b[1;34m(z)\u001b[0m\n\u001b[0;32m     60\u001b[0m \u001b[38;5;28;01mdef\u001b[39;00m \u001b[38;5;21mcdr_stream\u001b[39m(z):\n\u001b[1;32m---> 61\u001b[0m     \u001b[38;5;28;01mreturn\u001b[39;00m force(\u001b[43mcdr\u001b[49m\u001b[43m(\u001b[49m\u001b[43mz\u001b[49m\u001b[43m)\u001b[49m)\n",
      "File \u001b[1;32md:\\github\\sicp-code-ipynb\\chapter3\\base_definition.py:31\u001b[0m, in \u001b[0;36mcdr\u001b[1;34m(z)\u001b[0m\n\u001b[0;32m     30\u001b[0m \u001b[38;5;28;01mdef\u001b[39;00m \u001b[38;5;21mcdr\u001b[39m(z):\n\u001b[1;32m---> 31\u001b[0m     \u001b[38;5;28;01mreturn\u001b[39;00m \u001b[43mz\u001b[49m\u001b[43m(\u001b[49m\u001b[38;5;124;43m\"\u001b[39;49m\u001b[38;5;124;43mcdr\u001b[39;49m\u001b[38;5;124;43m\"\u001b[39;49m\u001b[43m)\u001b[49m\n",
      "\u001b[1;31mRecursionError\u001b[0m: maximum recursion depth exceeded"
     ]
    }
   ],
   "source": [
    "from base_definition import map_stream, delay, cons_stream, ref_stream\n",
    "\n",
    "\n",
    "def scale_stream(stream, factor):\n",
    "    return map_stream(lambda x: x * factor, stream)\n",
    "\n",
    "\n",
    "def merge_streams(s1, s2):\n",
    "    if car_stream(s1) < car_stream(s2):\n",
    "        return cons_stream(car_stream(s1), lambda: merge_streams(cdr_stream(s1), s2))\n",
    "    elif car_stream(s1) > car_stream(s2):\n",
    "        return cons_stream(car_stream(s2), lambda: merge_streams(s1, cdr_stream(s2)))\n",
    "    else:\n",
    "        return cons_stream(\n",
    "            car_stream(s1), lambda: merge_streams(cdr_stream(s1), cdr_stream(s2))\n",
    "        )\n",
    "\n",
    "\n",
    "def hamming():\n",
    "    def hamming_helper():\n",
    "        return cons_stream(\n",
    "            1,\n",
    "            lambda: merge_streams(\n",
    "                merge_streams(\n",
    "                    scale_stream(hamming_stream, 2), scale_stream(hamming_stream, 3)\n",
    "                ),\n",
    "                scale_stream(hamming_stream, 5),\n",
    "            ),\n",
    "        )\n",
    "\n",
    "    hamming_stream = hamming_helper()\n",
    "    return hamming_stream\n",
    "\n",
    "hamming_numbers = hamming()\n",
    "\n",
    "print(ref_stream(hamming_numbers, 1))\n",
    "print(ref_stream(hamming_numbers, 2))\n",
    "print(ref_stream(hamming_numbers, 3))\n",
    "print(ref_stream(hamming_numbers, 4))"
   ]
  },
  {
   "cell_type": "markdown",
   "metadata": {},
   "source": [
    "### 3.58  "
   ]
  },
  {
   "cell_type": "code",
   "execution_count": 19,
   "metadata": {},
   "outputs": [
    {
     "name": "stdout",
     "output_type": "stream",
     "text": [
      "2\n",
      "5\n"
     ]
    }
   ],
   "source": [
    "def expand(num, den, radix):\n",
    "    return cons_stream(\n",
    "        (num * radix) // den, lambda: expand((num * radix) % den, den, radix)\n",
    "    )\n",
    "\n",
    "\n",
    "s1 = expand(1, 7, 10)\n",
    "s2 = expand(3, 8, 10)\n",
    "\n",
    "print(ref_stream(s1, 3))\n",
    "print(ref_stream(s2, 3))"
   ]
  },
  {
   "cell_type": "markdown",
   "metadata": {},
   "source": [
    "### "
   ]
  }
 ],
 "metadata": {
  "kernelspec": {
   "display_name": "Python 3",
   "language": "python",
   "name": "python3"
  },
  "language_info": {
   "codemirror_mode": {
    "name": "ipython",
    "version": 3
   },
   "file_extension": ".py",
   "mimetype": "text/x-python",
   "name": "python",
   "nbconvert_exporter": "python",
   "pygments_lexer": "ipython3",
   "version": "3.11.5"
  }
 },
 "nbformat": 4,
 "nbformat_minor": 2
}
