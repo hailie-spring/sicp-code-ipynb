{
 "cells": [
  {
   "cell_type": "markdown",
   "metadata": {},
   "source": [
    "### 3.38  \n",
    "* follow specified order(50, 45, 40, 35)\n",
    "  1. peter -> paul -> mary: 110 -> 90 -> 45  \n",
    "  2. peter -> mary -> paul: 110 -> 55 -> 35 \n",
    "  3. paul -> peter -> mary: 80 -> 90 -> 45 \n",
    "  4. paul -> mary -> peter: 80 -> 40 -> 50 \n",
    "  5. mary -> peter -> paul: 50 -> 60 -> 40 \n",
    "  6. mary -> paul -> peter: 50 -> 30 -> 40 \n",
    "* Interleaved process (110, 90, 80, 50, 60, 55, 45, 30, 35, 30)\n",
    "  1. 100 -> 110\n",
    "  2. 100 -> 80\n",
    "  3. 100 -> 50\n",
    "  4. 110 -> 90\n",
    "  5. 110 -> 55\n",
    "  6. 80 -> 90\n",
    "  7. 80 -> 40\n",
    "  8. 50 -> 60\n",
    "  9. 50 -> 30\n",
    "  10. peter -> paul -> mary: 110 -> 90 -> 45  \n",
    "  11. peter -> mary -> paul: 110 -> 55 -> 35 \n",
    "  12. paul -> peter -> mary: 80 -> 90 -> 45 \n",
    "  13. paul -> mary -> peter: 80 -> 40 -> 50 \n",
    "  14. mary -> peter -> paul: 50 -> 60 -> 40 \n",
    "  15. mary -> paul -> peter: 50 -> 30 -> 40 "
   ]
  },
  {
   "cell_type": "markdown",
   "metadata": {},
   "source": [
    "### 3.39  \n",
    "  1. 121 \n",
    "  2. 101 "
   ]
  },
  {
   "cell_type": "markdown",
   "metadata": {},
   "source": [
    "### 3.40 \n",
    "* 非串行化过程\n",
    "  1. 100 -> 10 * 10\n",
    "  2. 1000 -> 10 * 10 * 10\n",
    "  3. 10^6 -> 10^2 * 10^2 * 10^2\n",
    "  4. 10^6 -> 10^3 * 10^3\n",
    "  5. 10^4 -> 10 * 10^2 * 10\n",
    "  6. 10^5 -> 10^2 * 10^2 * 10\n",
    "  7. 10^4 -> 10^3 * 10\n",
    "* 串行化过程\n",
    "  1.  10^6 -> 10^3 * 10^3\n",
    "  2.  10^6 -> 10^2 * 10^2 * 10^2"
   ]
  },
  {
   "cell_type": "markdown",
   "metadata": {},
   "source": [
    "###  3.41 \n",
    "原子性的只读操作 "
   ]
  },
  {
   "cell_type": "markdown",
   "metadata": {},
   "source": []
  },
  {
   "cell_type": "code",
   "execution_count": null,
   "metadata": {},
   "outputs": [],
   "source": []
  }
 ],
 "metadata": {
  "language_info": {
   "name": "python"
  }
 },
 "nbformat": 4,
 "nbformat_minor": 2
}
