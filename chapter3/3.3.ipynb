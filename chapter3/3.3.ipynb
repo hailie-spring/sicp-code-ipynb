{
 "cells": [
  {
   "cell_type": "markdown",
   "metadata": {},
   "source": [
    "### 3.12  "
   ]
  },
  {
   "cell_type": "code",
   "execution_count": null,
   "metadata": {},
   "outputs": [],
   "source": [
    "from base_definition import list, append, append_set, display_list, cdr\n",
    "\n",
    "x = list('a', 'b')\n",
    "y = list('c', 'd')\n",
    "z = append(x, y)\n",
    "display_list(cdr(x))\n",
    "w = append_set(x, y)\n",
    "display_list(cdr(x))\n",
    "display_list(cdr(w))\n"
   ]
  },
  {
   "cell_type": "markdown",
   "metadata": {},
   "source": [
    "### 3.13  \n",
    "stuck in dead loop  "
   ]
  },
  {
   "cell_type": "markdown",
   "metadata": {},
   "source": [
    "### 3.14  \n",
    "reverse \n",
    "v is ( a )  \n",
    "w is ( d c b a )  "
   ]
  },
  {
   "cell_type": "code",
   "execution_count": null,
   "metadata": {},
   "outputs": [],
   "source": [
    "from base_definition import set_cdr, display_list\n",
    "\n",
    "def mystery(x):\n",
    "    def loop(x, y):\n",
    "        if x is None:\n",
    "            return y\n",
    "        temp = cdr(x)\n",
    "        set_cdr(x, y)\n",
    "        return loop(temp, x)\n",
    "    return loop(x, None)\n",
    "\n",
    "v = list('a', 'b', 'c', 'd')\n",
    "display_list(v)\n",
    "w = mystery(v)\n",
    "display_list(w)\n",
    "display_list(v)\n"
   ]
  },
  {
   "cell_type": "markdown",
   "metadata": {},
   "source": [
    "### 3.19  \n",
    "1. iteration \n",
    "2. recursive"
   ]
  },
  {
   "cell_type": "code",
   "execution_count": null,
   "metadata": {},
   "outputs": [],
   "source": [
    "from base_definition import cons, car, cdr, display_list, list, set_cdr\n",
    "\n",
    "\n",
    "def has_loop(x):\n",
    "    if x is None:\n",
    "        return False\n",
    "    next_ptr = cdr(x)\n",
    "    while True:\n",
    "        if next_ptr is None:\n",
    "            return False\n",
    "        next_two_ptr = cdr(next_ptr)\n",
    "        if next_ptr == next_two_ptr:\n",
    "            return True\n",
    "        next_ptr = next_two_ptr\n",
    "\n",
    "x = cons(1, 2)\n",
    "set_cdr(x, x)\n",
    "print(has_loop(x))\n",
    "x = list(1, 2, 3)\n",
    "print(has_loop(x))\n",
    "y = cons(1, 2)\n",
    "x = cons(3, y)\n",
    "set_cdr(y, cdr(x))\n",
    "print(has_loop(x))\n"
   ]
  },
  {
   "cell_type": "code",
   "execution_count": null,
   "metadata": {},
   "outputs": [],
   "source": [
    "from base_definition import cons, car, cdr, display_list, list, set_cdr\n",
    "\n",
    "\n",
    "def has_loop(x):\n",
    "\n",
    "    def walk_list(step, x):\n",
    "        if x is None:\n",
    "            return None\n",
    "        if step == 0:\n",
    "            return x\n",
    "        return walk_list(step - 1, cdr(x))\n",
    "\n",
    "    def run(x, y):\n",
    "        slow = walk_list(1, x)\n",
    "        fast = walk_list(2, y)\n",
    "        if slow is None:\n",
    "            return False\n",
    "        if fast is None:\n",
    "            return False\n",
    "        if slow == fast:\n",
    "            return True\n",
    "        return run(slow, fast)\n",
    "\n",
    "    return run(x, x)\n",
    "\n",
    "\n",
    "x = cons(1, 2)\n",
    "set_cdr(x, x)\n",
    "print(has_loop(x))\n",
    "x = list(1, 2, 3)\n",
    "set_cdr(x, cdr(x))\n",
    "print(has_loop(x))\n",
    "y = cons(1, 2)\n",
    "x = cons(3, y)\n",
    "set_cdr(y, cdr(x))\n",
    "print(has_loop(x))"
   ]
  },
  {
   "cell_type": "markdown",
   "metadata": {},
   "source": [
    "### 3.20  "
   ]
  },
  {
   "cell_type": "code",
   "execution_count": null,
   "metadata": {},
   "outputs": [],
   "source": [
    "from base_definition import cons, display_list, set_car, car\n",
    "\n",
    "x = cons(1, 2)\n",
    "z = cons(x, x)\n",
    "set_car(cdr(z), 17)\n",
    "print(car(x))"
   ]
  },
  {
   "cell_type": "markdown",
   "metadata": {},
   "source": [
    "### 3.21  "
   ]
  },
  {
   "cell_type": "code",
   "execution_count": null,
   "metadata": {},
   "outputs": [],
   "source": [
    "from base_definition import make_queue, insert_queue, delete_queue, front_ptr, display_list\n",
    "\n",
    "q = make_queue()\n",
    "insert_queue(q, 1)\n",
    "insert_queue(q, 2)\n",
    "insert_queue(q, 3)\n",
    "display_list(front_ptr(q))\n",
    "delete_queue(q)\n",
    "display_list(front_ptr(q))\n",
    "display_list(q)"
   ]
  },
  {
   "cell_type": "markdown",
   "metadata": {},
   "source": [
    "### 3.23  "
   ]
  },
  {
   "cell_type": "code",
   "execution_count": null,
   "metadata": {},
   "outputs": [],
   "source": [
    "from base_definition import make_deque\n",
    "\n",
    "deque = make_deque()\n",
    "\n",
    "deque('insert_front_deque')(1)\n",
    "deque('display_deque')\n",
    "deque('delete_front_deque')\n",
    "deque('display_deque')\n",
    "deque('insert_front_deque')(1)\n",
    "deque('delete_rear_deque')\n",
    "deque('display_deque')\n",
    "deque('insert_front_deque')(2)\n",
    "deque('insert_front_deque')(3)\n",
    "deque('delete_front_deque')\n",
    "deque('display_deque')\n",
    "deque('insert_rear_deque')(5)\n",
    "deque('insert_rear_deque')(6)\n",
    "deque('display_deque')\n",
    "deque('insert_front_deque')(4)\n",
    "deque('display_deque')\n",
    "deque('delete_rear_deque')\n",
    "deque('display_deque')\n"
   ]
  },
  {
   "cell_type": "markdown",
   "metadata": {},
   "source": [
    "### 3.24  "
   ]
  }
 ],
 "metadata": {
  "kernelspec": {
   "display_name": "Python 3",
   "language": "python",
   "name": "python3"
  },
  "language_info": {
   "codemirror_mode": {
    "name": "ipython",
    "version": 3
   },
   "file_extension": ".py",
   "mimetype": "text/x-python",
   "name": "python",
   "nbconvert_exporter": "python",
   "pygments_lexer": "ipython3",
   "version": "3.11.5"
  }
 },
 "nbformat": 4,
 "nbformat_minor": 2
}
